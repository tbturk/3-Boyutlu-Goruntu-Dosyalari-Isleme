{
  "nbformat": 4,
  "nbformat_minor": 0,
  "metadata": {
    "colab": {
      "provenance": [],
      "authorship_tag": "ABX9TyNLkiryfQ2EsvYRs9DbtUlD",
      "include_colab_link": true
    },
    "kernelspec": {
      "name": "python3",
      "display_name": "Python 3"
    },
    "language_info": {
      "name": "python"
    }
  },
  "cells": [
    {
      "cell_type": "markdown",
      "metadata": {
        "id": "view-in-github",
        "colab_type": "text"
      },
      "source": [
        "<a href=\"https://colab.research.google.com/github/tbturk/3-Boyutlu-Goruntu-Dosyalari-Isleme/blob/master/225112045_temel_olasilik.ipynb\" target=\"_parent\"><img src=\"https://colab.research.google.com/assets/colab-badge.svg\" alt=\"Open In Colab\"/></a>"
      ]
    },
    {
      "cell_type": "markdown",
      "source": [
        "### Temel Olasılık Ödev2 - Taha Batuhan TÜRK - 225112045"
      ],
      "metadata": {
        "id": "b1AgajeRwMoT"
      }
    },
    {
      "cell_type": "code",
      "source": [],
      "metadata": {
        "id": "gB_DBaZXwd-F"
      },
      "execution_count": null,
      "outputs": []
    }
  ]
}