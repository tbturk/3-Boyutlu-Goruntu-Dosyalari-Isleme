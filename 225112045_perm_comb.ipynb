{
  "nbformat": 4,
  "nbformat_minor": 0,
  "metadata": {
    "colab": {
      "provenance": [],
      "authorship_tag": "ABX9TyPaM1WvHabGKU5LN4cr6r6g",
      "include_colab_link": true
    },
    "kernelspec": {
      "name": "python3",
      "display_name": "Python 3"
    },
    "language_info": {
      "name": "python"
    }
  },
  "cells": [
    {
      "cell_type": "markdown",
      "metadata": {
        "id": "view-in-github",
        "colab_type": "text"
      },
      "source": [
        "<a href=\"https://colab.research.google.com/github/tbturk/3-Boyutlu-Goruntu-Dosyalari-Isleme/blob/master/225112045_perm_comb.ipynb\" target=\"_parent\"><img src=\"https://colab.research.google.com/assets/colab-badge.svg\" alt=\"Open In Colab\"/></a>"
      ]
    },
    {
      "cell_type": "markdown",
      "source": [
        "### SORU\n",
        "\n",
        "Bir futbol takımının 11 oyuncusu vardır. Takımın 4 forveti, 4 orta sahası ve 3 defans oyuncusu bulunmaktadır.\n",
        "Takımın 3 forveti, 3 orta sahası ve 2 defans oyuncusu sahada yer alacaktır. Bu takımı sahada kaç farklı şekilde yer alabilir?\n",
        "\n",
        "### CEVAP"
      ],
      "metadata": {
        "id": "PV4RHfi6ev1I"
      }
    },
    {
      "cell_type": "code",
      "source": [
        "\n",
        "\n",
        "from itertools import combinations\n",
        "\n",
        "# Takım listesi (4 forvet, 4 ortasaha ve 3 defans)\n",
        "takim = ['F1', 'F2', 'F3', 'F4', 'OM1', 'OM2', 'OM3', 'OM4', 'D1', 'D2', 'D3']\n",
        "\n",
        "# 3 forvet, 3 orta saha ve 2 defans oyuncusu için tüm kombinasyonlar\n",
        "forvetler = list(combinations([i for i in takim if i[0] == 'F'], 3))\n",
        "orta_sahalar = list(combinations([i for i in takim if i[:2] == 'OM'], 3))\n",
        "defanslar = list(combinations([i for i in takim if i[0] == 'D'], 2))\n",
        "\n",
        "# Sahada yer alabilecek tüm kadrolar\n",
        "tum_kombinasyonlar = []\n",
        "for f in forvetler:\n",
        "    for om in orta_sahalar:\n",
        "        for d in defanslar:\n",
        "            takim_kombinasyonu = list(f) + list(om) + list(d)\n",
        "            tum_kombinasyonlar.append(takim_kombinasyonu)\n",
        "            print(\"Kadro\",len(tum_kombinasyonlar),\": \", takim_kombinasyonu)\n",
        "\n",
        "print(\"\\nSahada yer alabilecek tüm farklı kombinasyon sayısı:\", len(tum_kombinasyonlar))"
      ],
      "metadata": {
        "colab": {
          "base_uri": "https://localhost:8080/"
        },
        "id": "-V-qfHelfNVz",
        "outputId": "d3fc8a89-eec0-4bb7-a368-ea6cea81a5e9"
      },
      "execution_count": 7,
      "outputs": [
        {
          "output_type": "stream",
          "name": "stdout",
          "text": [
            "Kadro 1 :  ['F1', 'F2', 'F3', 'OM1', 'OM2', 'OM3', 'D1', 'D2']\n",
            "Kadro 2 :  ['F1', 'F2', 'F3', 'OM1', 'OM2', 'OM3', 'D1', 'D3']\n",
            "Kadro 3 :  ['F1', 'F2', 'F3', 'OM1', 'OM2', 'OM3', 'D2', 'D3']\n",
            "Kadro 4 :  ['F1', 'F2', 'F3', 'OM1', 'OM2', 'OM4', 'D1', 'D2']\n",
            "Kadro 5 :  ['F1', 'F2', 'F3', 'OM1', 'OM2', 'OM4', 'D1', 'D3']\n",
            "Kadro 6 :  ['F1', 'F2', 'F3', 'OM1', 'OM2', 'OM4', 'D2', 'D3']\n",
            "Kadro 7 :  ['F1', 'F2', 'F3', 'OM1', 'OM3', 'OM4', 'D1', 'D2']\n",
            "Kadro 8 :  ['F1', 'F2', 'F3', 'OM1', 'OM3', 'OM4', 'D1', 'D3']\n",
            "Kadro 9 :  ['F1', 'F2', 'F3', 'OM1', 'OM3', 'OM4', 'D2', 'D3']\n",
            "Kadro 10 :  ['F1', 'F2', 'F3', 'OM2', 'OM3', 'OM4', 'D1', 'D2']\n",
            "Kadro 11 :  ['F1', 'F2', 'F3', 'OM2', 'OM3', 'OM4', 'D1', 'D3']\n",
            "Kadro 12 :  ['F1', 'F2', 'F3', 'OM2', 'OM3', 'OM4', 'D2', 'D3']\n",
            "Kadro 13 :  ['F1', 'F2', 'F4', 'OM1', 'OM2', 'OM3', 'D1', 'D2']\n",
            "Kadro 14 :  ['F1', 'F2', 'F4', 'OM1', 'OM2', 'OM3', 'D1', 'D3']\n",
            "Kadro 15 :  ['F1', 'F2', 'F4', 'OM1', 'OM2', 'OM3', 'D2', 'D3']\n",
            "Kadro 16 :  ['F1', 'F2', 'F4', 'OM1', 'OM2', 'OM4', 'D1', 'D2']\n",
            "Kadro 17 :  ['F1', 'F2', 'F4', 'OM1', 'OM2', 'OM4', 'D1', 'D3']\n",
            "Kadro 18 :  ['F1', 'F2', 'F4', 'OM1', 'OM2', 'OM4', 'D2', 'D3']\n",
            "Kadro 19 :  ['F1', 'F2', 'F4', 'OM1', 'OM3', 'OM4', 'D1', 'D2']\n",
            "Kadro 20 :  ['F1', 'F2', 'F4', 'OM1', 'OM3', 'OM4', 'D1', 'D3']\n",
            "Kadro 21 :  ['F1', 'F2', 'F4', 'OM1', 'OM3', 'OM4', 'D2', 'D3']\n",
            "Kadro 22 :  ['F1', 'F2', 'F4', 'OM2', 'OM3', 'OM4', 'D1', 'D2']\n",
            "Kadro 23 :  ['F1', 'F2', 'F4', 'OM2', 'OM3', 'OM4', 'D1', 'D3']\n",
            "Kadro 24 :  ['F1', 'F2', 'F4', 'OM2', 'OM3', 'OM4', 'D2', 'D3']\n",
            "Kadro 25 :  ['F1', 'F3', 'F4', 'OM1', 'OM2', 'OM3', 'D1', 'D2']\n",
            "Kadro 26 :  ['F1', 'F3', 'F4', 'OM1', 'OM2', 'OM3', 'D1', 'D3']\n",
            "Kadro 27 :  ['F1', 'F3', 'F4', 'OM1', 'OM2', 'OM3', 'D2', 'D3']\n",
            "Kadro 28 :  ['F1', 'F3', 'F4', 'OM1', 'OM2', 'OM4', 'D1', 'D2']\n",
            "Kadro 29 :  ['F1', 'F3', 'F4', 'OM1', 'OM2', 'OM4', 'D1', 'D3']\n",
            "Kadro 30 :  ['F1', 'F3', 'F4', 'OM1', 'OM2', 'OM4', 'D2', 'D3']\n",
            "Kadro 31 :  ['F1', 'F3', 'F4', 'OM1', 'OM3', 'OM4', 'D1', 'D2']\n",
            "Kadro 32 :  ['F1', 'F3', 'F4', 'OM1', 'OM3', 'OM4', 'D1', 'D3']\n",
            "Kadro 33 :  ['F1', 'F3', 'F4', 'OM1', 'OM3', 'OM4', 'D2', 'D3']\n",
            "Kadro 34 :  ['F1', 'F3', 'F4', 'OM2', 'OM3', 'OM4', 'D1', 'D2']\n",
            "Kadro 35 :  ['F1', 'F3', 'F4', 'OM2', 'OM3', 'OM4', 'D1', 'D3']\n",
            "Kadro 36 :  ['F1', 'F3', 'F4', 'OM2', 'OM3', 'OM4', 'D2', 'D3']\n",
            "Kadro 37 :  ['F2', 'F3', 'F4', 'OM1', 'OM2', 'OM3', 'D1', 'D2']\n",
            "Kadro 38 :  ['F2', 'F3', 'F4', 'OM1', 'OM2', 'OM3', 'D1', 'D3']\n",
            "Kadro 39 :  ['F2', 'F3', 'F4', 'OM1', 'OM2', 'OM3', 'D2', 'D3']\n",
            "Kadro 40 :  ['F2', 'F3', 'F4', 'OM1', 'OM2', 'OM4', 'D1', 'D2']\n",
            "Kadro 41 :  ['F2', 'F3', 'F4', 'OM1', 'OM2', 'OM4', 'D1', 'D3']\n",
            "Kadro 42 :  ['F2', 'F3', 'F4', 'OM1', 'OM2', 'OM4', 'D2', 'D3']\n",
            "Kadro 43 :  ['F2', 'F3', 'F4', 'OM1', 'OM3', 'OM4', 'D1', 'D2']\n",
            "Kadro 44 :  ['F2', 'F3', 'F4', 'OM1', 'OM3', 'OM4', 'D1', 'D3']\n",
            "Kadro 45 :  ['F2', 'F3', 'F4', 'OM1', 'OM3', 'OM4', 'D2', 'D3']\n",
            "Kadro 46 :  ['F2', 'F3', 'F4', 'OM2', 'OM3', 'OM4', 'D1', 'D2']\n",
            "Kadro 47 :  ['F2', 'F3', 'F4', 'OM2', 'OM3', 'OM4', 'D1', 'D3']\n",
            "Kadro 48 :  ['F2', 'F3', 'F4', 'OM2', 'OM3', 'OM4', 'D2', 'D3']\n",
            "\n",
            "Sahada yer alabilecek tüm farklı kombinasyon sayısı: 48\n"
          ]
        }
      ]
    },
    {
      "cell_type": "markdown",
      "source": [
        "\n",
        "\n",
        "---\n",
        "\n"
      ],
      "metadata": {
        "id": "GlLi-NR8hXrj"
      }
    },
    {
      "cell_type": "markdown",
      "source": [
        "### SORU\n",
        "\n",
        "5 farklı renkte topumuz var: kırmızı, yeşil, mavi, kahverengi ve sarı. Bu topları yan yana dizmek istiyoruz ancak kırmızı topun her zaman ilk sırada, sarı topun ise her zaman son sırada olması gerekiyor. Buna göre, geriye kalan mavi ve yeşil topların tüm olası dizilimlerinin sayısı kaçtır??"
      ],
      "metadata": {
        "id": "cARjGwSLe8X5"
      }
    },
    {
      "cell_type": "code",
      "source": [
        "from itertools import permutations\n",
        "\n",
        "# Topların renkleri\n",
        "toplar = [\"kırmızı\", \"yeşil\", \"mavi\",\"kahverengi\", \"sarı\",]\n",
        "\n",
        "# Kırmızı topu ilk sıraya, sarı top son sıraya\n",
        "sabit_toplar = [\"kırmızı\"] + [\"\"] * 3 + [\"sarı\"]\n",
        "\n",
        "# Geriye kalan mavi ve yeşil topların tüm permütasyonları\n",
        "kalan_toplar = list(permutations(toplar[1:4]))\n",
        "\n",
        "# Tüm olası durumlar\n",
        "tum_durumlar = [sabit_toplar[:1] + list(x) + sabit_toplar[-1:] for x in kalan_toplar]\n",
        "\n",
        "# Sonuçlar\n",
        "print(\"Kalan mavi ve yeşil topların tüm olası dizilimlerinin sayısı:\", len(tum_durumlar))\n",
        "for durum in tum_durumlar:\n",
        "  print(\"Olası dizilimler: \", durum)"
      ],
      "metadata": {
        "colab": {
          "base_uri": "https://localhost:8080/"
        },
        "id": "WXyiUrKwh5By",
        "outputId": "d897c444-493c-414d-80d5-61e941687bfa"
      },
      "execution_count": 18,
      "outputs": [
        {
          "output_type": "stream",
          "name": "stdout",
          "text": [
            "Kalan mavi ve yeşil topların tüm olası dizilimlerinin sayısı: 6\n",
            "Olası dizilimler:  ['kırmızı', 'yeşil', 'mavi', 'kahverengi', 'sarı']\n",
            "Olası dizilimler:  ['kırmızı', 'yeşil', 'kahverengi', 'mavi', 'sarı']\n",
            "Olası dizilimler:  ['kırmızı', 'mavi', 'yeşil', 'kahverengi', 'sarı']\n",
            "Olası dizilimler:  ['kırmızı', 'mavi', 'kahverengi', 'yeşil', 'sarı']\n",
            "Olası dizilimler:  ['kırmızı', 'kahverengi', 'yeşil', 'mavi', 'sarı']\n",
            "Olası dizilimler:  ['kırmızı', 'kahverengi', 'mavi', 'yeşil', 'sarı']\n"
          ]
        }
      ]
    }
  ]
}